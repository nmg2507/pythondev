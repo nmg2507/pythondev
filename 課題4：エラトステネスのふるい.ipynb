{
 "cells": [
  {
   "cell_type": "code",
   "execution_count": null,
   "id": "319a5a3f",
   "metadata": {},
   "outputs": [],
   "source": [
    "#課題４　エラトステネスのふるい（素数）\n",
    "\n",
    "for i in range(1,101):\n",
    "\n",
    "    if i == 1:                  # 1,は素数ではない\n",
    "        continue\n",
    "    if i != 2 and i % 2 == 0:\n",
    "        continue\n",
    "    if i != 3 and i % 3 == 0:\n",
    "        continue\n",
    "    if i != 5 and i % 5 == 0:\n",
    "        continue\n",
    "    if i != 7 and i % 7 == 0:\n",
    "        continue\n",
    "    \n",
    "    print (i)\n",
    "    continue\n",
    "\n",
    "print(\"終了\")"
   ]
  }
 ],
 "metadata": {
  "kernelspec": {
   "display_name": ".venv",
   "language": "python",
   "name": "python3"
  },
  "language_info": {
   "name": "python",
   "version": "3.12.10"
  }
 },
 "nbformat": 4,
 "nbformat_minor": 5
}
