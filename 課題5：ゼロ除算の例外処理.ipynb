{
 "cells": [
  {
   "cell_type": "code",
   "execution_count": null,
   "id": "932cb863",
   "metadata": {},
   "outputs": [],
   "source": [
    "#ゼロ除算の例外処理\n",
    "\n",
    "try:\n",
    "    a = int(input(\"割られる数を入力してください：\"))\n",
    "    b = int(input(\"割る数を入力してください：\"))\n",
    "    c = a / b\n",
    "\n",
    "except ValueError:\n",
    "    print(\"エラー：数値を入力してください\")\n",
    "    \n",
    "except ZeroDivisionError:\n",
    "    print(\"エラー：0で割り算しないでください\")\n",
    "\n",
    "except:\n",
    "    print(\"エラー：何らかのエラーが生じています\")\n",
    "\n",
    "else:\n",
    "    print(f\"{a} ÷ {b} = {c}\")\n",
    "\n",
    "finally:\n",
    "    print(\"処理を終了します\")"
   ]
  }
 ],
 "metadata": {
  "kernelspec": {
   "display_name": ".venv",
   "language": "python",
   "name": "python3"
  },
  "language_info": {
   "name": "python",
   "version": "3.12.10"
  }
 },
 "nbformat": 4,
 "nbformat_minor": 5
}
