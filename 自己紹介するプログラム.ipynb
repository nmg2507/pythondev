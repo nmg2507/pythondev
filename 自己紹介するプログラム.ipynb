{
 "cells": [
  {
   "cell_type": "markdown",
   "id": "dc13dd8f",
   "metadata": {},
   "source": [
    "#### キーボードから名前と年齢の入力を受け付け、それを画面に表示するプログラム"
   ]
  },
  {
   "cell_type": "code",
   "execution_count": 7,
   "id": "03eeb11c",
   "metadata": {},
   "outputs": [
    {
     "name": "stdout",
     "output_type": "stream",
     "text": [
      "私の名前は 山田　はなこ です。来年で 48 歳になります。\n"
     ]
    }
   ],
   "source": [
    "def introduce (name,age):\n",
    "    age = int(age)+1\n",
    "    print (f\"私の名前は {name} です。来年で {age} 歳になります。\")\n",
    "\n",
    "name = input(\"名前を入力してください：\")\n",
    "age = input(\"現在の年齢を入力してください：\")\n",
    "\n",
    "introduce(name,age)\n"
   ]
  }
 ],
 "metadata": {
  "kernelspec": {
   "display_name": ".venv",
   "language": "python",
   "name": "python3"
  },
  "language_info": {
   "codemirror_mode": {
    "name": "ipython",
    "version": 3
   },
   "file_extension": ".py",
   "mimetype": "text/x-python",
   "name": "python",
   "nbconvert_exporter": "python",
   "pygments_lexer": "ipython3",
   "version": "3.12.10"
  }
 },
 "nbformat": 4,
 "nbformat_minor": 5
}
