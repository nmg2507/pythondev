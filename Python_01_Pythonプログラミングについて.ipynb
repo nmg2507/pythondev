{
  "cells": [
    {
      "cell_type": "markdown",
      "metadata": {
        "id": "fiaSg5_XOTRi"
      },
      "source": [
        "### Pythonを実行する方法1: REPLを使う"
      ]
    },
    {
      "cell_type": "markdown",
      "metadata": {
        "id": "pOQ6dEFbOgtQ"
      },
      "source": [
        "公式のオンラインREPLを利用する\n",
        "\n",
        "[Python Shell](https://www.python.org/shell/)"
      ]
    },
    {
      "cell_type": "markdown",
      "metadata": {
        "id": "gAJnVAnsOn-R"
      },
      "source": [
        "### Pythonを実行する方法2: 「.pyファイル」を作る\n",
        "\n",
        "（1）`example.py` というファイルを作成し、内容を以下のとおりに入力、保存（ファイルは作成済です）\n",
        "\n",
        "```python\n",
        "print(\"Hello, world!\")\n",
        "```\n",
        "\n",
        "（2）ターミナルで以下を実行\n",
        "\n",
        "```\n",
        "python example.py\n",
        "```"
      ]
    },
    {
      "cell_type": "markdown",
      "metadata": {
        "id": "gxwkdM2fR9v9"
      },
      "source": [
        "### Pythonを実行する方法3: Jupyter Notebookを使う"
      ]
    },
    {
      "cell_type": "code",
      "execution_count": null,
      "metadata": {
        "colab": {
          "base_uri": "https://localhost:8080/"
        },
        "id": "ahtR-d2UR-WP",
        "outputId": "e44c43de-34b1-4521-a2d7-8e14561b3e48"
      },
      "outputs": [
        {
          "name": "stdout",
          "output_type": "stream",
          "text": [
            "Hello, world!\n"
          ]
        }
      ],
      "source": [
        "print(\"Hello, world!\")"
      ]
    },
    {
      "cell_type": "code",
      "execution_count": 5,
      "metadata": {},
      "outputs": [
        {
          "name": "stdout",
          "output_type": "stream",
          "text": [
            "aiueo\n"
          ]
        }
      ],
      "source": [
        "name = input(\"名前を入力してください：\"); print(name)"
      ]
    },
    {
      "cell_type": "code",
      "execution_count": 7,
      "metadata": {},
      "outputs": [
        {
          "name": "stdout",
          "output_type": "stream",
          "text": [
            "あなたの名前は aiueo ですね。\n"
          ]
        }
      ],
      "source": [
        "print(\"あなたの名前は\", name, \"ですね。\")"
      ]
    },
    {
      "cell_type": "code",
      "execution_count": 8,
      "metadata": {},
      "outputs": [
        {
          "name": "stdout",
          "output_type": "stream",
          "text": [
            "あなたの名前はaiueoですね\n"
          ]
        }
      ],
      "source": [
        "print(\"あなたの名前は\"+name+\"ですね\")"
      ]
    },
    {
      "cell_type": "code",
      "execution_count": 10,
      "metadata": {},
      "outputs": [
        {
          "name": "stdout",
          "output_type": "stream",
          "text": [
            "あなたの名前は、aiueo ですね\n"
          ]
        }
      ],
      "source": [
        "print(f\"あなたの名前は、{name} ですね\")"
      ]
    },
    {
      "cell_type": "code",
      "execution_count": 15,
      "metadata": {},
      "outputs": [
        {
          "data": {
            "text/plain": [
              "str"
            ]
          },
          "execution_count": 15,
          "metadata": {},
          "output_type": "execute_result"
        }
      ],
      "source": [
        "num = input(\"整数値を入力してみる：\")\n",
        "type(num)"
      ]
    },
    {
      "cell_type": "code",
      "execution_count": 18,
      "metadata": {},
      "outputs": [
        {
          "name": "stdout",
          "output_type": "stream",
          "text": [
            "100\n"
          ]
        }
      ],
      "source": [
        "num = input(\"整数値を入力してみる：\")\n",
        "num = int(num)\n",
        "print (num*2)"
      ]
    },
    {
      "cell_type": "code",
      "execution_count": 19,
      "metadata": {},
      "outputs": [
        {
          "data": {
            "text/plain": [
              "'a = \"Alphabet\"\\nb = \"Google\"\\nc = a + \"は\" + b + \"の親会社です。\"\\nprint(c)'"
            ]
          },
          "execution_count": 19,
          "metadata": {},
          "output_type": "execute_result"
        }
      ],
      "source": [
        "\"\"\"a = \"Alphabet\"\n",
        "b = \"Google\"\n",
        "c = a + \"は\" + b + \"の親会社です。\"\n",
        "print(c)\"\"\""
      ]
    },
    {
      "cell_type": "code",
      "execution_count": 30,
      "metadata": {},
      "outputs": [
        {
          "name": "stdout",
          "output_type": "stream",
          "text": [
            "AlphabetはGoogleの親会社です。\n"
          ]
        }
      ],
      "source": [
        "exec(\"\"\"a = \"Alphabet\"\n",
        "b = \"Google\"\n",
        "C = a + \"は\" + b + \"の親会社です\"\n",
        "             \n",
        "print(c)\"\"\")"
      ]
    },
    {
      "cell_type": "code",
      "execution_count": 26,
      "metadata": {},
      "outputs": [
        {
          "name": "stdout",
          "output_type": "stream",
          "text": [
            "AlphabetはGoogleの親会社です。\n"
          ]
        }
      ],
      "source": [
        "exec(\"\"\"a = \"Alphabet\"\n",
        "b = \"Google\"\n",
        "c = a + \"は\" + b + \"の親会社です。\"\n",
        "print(c)\"\"\")"
      ]
    },
    {
      "cell_type": "markdown",
      "metadata": {},
      "source": [
        "自作関数"
      ]
    }
  ],
  "metadata": {
    "colab": {
      "provenance": []
    },
    "kernelspec": {
      "display_name": ".venv",
      "language": "python",
      "name": "python3"
    },
    "language_info": {
      "codemirror_mode": {
        "name": "ipython",
        "version": 3
      },
      "file_extension": ".py",
      "mimetype": "text/x-python",
      "name": "python",
      "nbconvert_exporter": "python",
      "pygments_lexer": "ipython3",
      "version": "3.12.10"
    }
  },
  "nbformat": 4,
  "nbformat_minor": 0
}
