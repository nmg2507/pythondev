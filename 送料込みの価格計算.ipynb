{
 "cells": [
  {
   "cell_type": "markdown",
   "id": "4a78da74",
   "metadata": {},
   "source": [
    "##### 送料込みの価格計算"
   ]
  },
  {
   "cell_type": "code",
   "execution_count": 34,
   "id": "4f66d00b",
   "metadata": {},
   "outputs": [
    {
     "name": "stdout",
     "output_type": "stream",
     "text": [
      "税抜価格を入力してください：1800円 (税込1980円)\n",
      "送料として350円かかります\n",
      "送料込みの価格は2330円です\n"
     ]
    }
   ],
   "source": [
    "extax_price = int (input(\"税抜価格を入力してください：\"))\n",
    "\n",
    "intax_price = round (extax_price * 1.1)\n",
    "print (f\"税抜価格を入力してください：{extax_price}円 (税込{intax_price}円)\")\n",
    "# 指示にはありませんが 、計算がわかるよう\n",
    "# 税込金額も隣に表示させています\n",
    "\n",
    "if intax_price >= 2000:\n",
    "    total_price = intax_price\n",
    "    print (\"送料は無料です\")\n",
    "    print (f\"送料込みの価格は{total_price}円です\")\n",
    "\n",
    "else: \n",
    "    total_price = intax_price + 350\n",
    "    print (\"送料として350円かかります\")\n",
    "    print (f\"送料込みの価格は{total_price}円です\")\n"
   ]
  }
 ],
 "metadata": {
  "kernelspec": {
   "display_name": ".venv",
   "language": "python",
   "name": "python3"
  },
  "language_info": {
   "codemirror_mode": {
    "name": "ipython",
    "version": 3
   },
   "file_extension": ".py",
   "mimetype": "text/x-python",
   "name": "python",
   "nbconvert_exporter": "python",
   "pygments_lexer": "ipython3",
   "version": "3.12.10"
  }
 },
 "nbformat": 4,
 "nbformat_minor": 5
}
