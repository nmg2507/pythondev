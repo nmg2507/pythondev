{
 "cells": [
  {
   "cell_type": "markdown",
   "id": "087aeba4",
   "metadata": {},
   "source": [
    "# **レッスン0**\n",
    "## 見出し2\n",
    "- vs code の基本的な書き方\n",
    "\n",
    "- 項目1\n",
    "  * 項目2\n",
    "    - サブ項目\n",
    "\n",
    "1. 項目1\n",
    "2. 項目2\n",
    "---\n",
    "| 見出し1 | 見出し2 |\n",
    "| ------- | ------- |\n",
    "| データ1 | データ2 |\n",
    "| データ3 | データ4 |"
   ]
  },
  {
   "cell_type": "code",
   "execution_count": 2,
   "id": "b0746f62",
   "metadata": {},
   "outputs": [
    {
     "name": "stdout",
     "output_type": "stream",
     "text": [
      "Hello! World!\n"
     ]
    }
   ],
   "source": [
    "print(\"Hello! World!\")"
   ]
  },
  {
   "cell_type": "code",
   "execution_count": 4,
   "id": "077bd2b2",
   "metadata": {},
   "outputs": [
    {
     "name": "stdout",
     "output_type": "stream",
     "text": [
      "Hello! World!\n",
      "こんにちは！　世界！\n"
     ]
    }
   ],
   "source": [
    "print(\"Hello! World!\")\n",
    "print(\"こんにちは！　世界！\")"
   ]
  }
 ],
 "metadata": {
  "kernelspec": {
   "display_name": ".venv",
   "language": "python",
   "name": "python3"
  },
  "language_info": {
   "codemirror_mode": {
    "name": "ipython",
    "version": 3
   },
   "file_extension": ".py",
   "mimetype": "text/x-python",
   "name": "python",
   "nbconvert_exporter": "python",
   "pygments_lexer": "ipython3",
   "version": "3.12.10"
  }
 },
 "nbformat": 4,
 "nbformat_minor": 5
}
