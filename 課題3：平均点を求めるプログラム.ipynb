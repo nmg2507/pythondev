{
 "cells": [
  {
   "cell_type": "code",
   "execution_count": 3,
   "id": "fe791872",
   "metadata": {},
   "outputs": [
    {
     "name": "stdout",
     "output_type": "stream",
     "text": [
      "1人目：60\n",
      "2人目：70\n",
      "3人目：80\n",
      "4人目：90\n",
      "5人目：100\n",
      "5人のテストの平均点は、80.0点です\n"
     ]
    }
   ],
   "source": [
    "#平均点を出す\n",
    "\n",
    "num = 0              #これ要る？\n",
    "total_score = 0      #これも要る？\n",
    "\n",
    "while True:\n",
    "    \n",
    "    score = input (\"点数を入力してください\")\n",
    "    if int (score) == -1 :\n",
    "        break \n",
    "\n",
    "    num += 1\n",
    "    total_score = total_score + int (score) \n",
    "    print (f\"{num}人目：{score}\")\n",
    "    continue\n",
    "\n",
    "print (f\"{num}人のテストの平均点は、{round((total_score/num),1)}点です\")"
   ]
  }
 ],
 "metadata": {
  "kernelspec": {
   "display_name": ".venv",
   "language": "python",
   "name": "python3"
  },
  "language_info": {
   "codemirror_mode": {
    "name": "ipython",
    "version": 3
   },
   "file_extension": ".py",
   "mimetype": "text/x-python",
   "name": "python",
   "nbconvert_exporter": "python",
   "pygments_lexer": "ipython3",
   "version": "3.12.10"
  }
 },
 "nbformat": 4,
 "nbformat_minor": 5
}
